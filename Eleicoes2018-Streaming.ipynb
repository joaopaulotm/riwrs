{
 "cells": [
  {
   "cell_type": "code",
   "execution_count": 138,
   "metadata": {},
   "outputs": [],
   "source": [
    "from tweepy import OAuthHandler\n",
    "from tweepy import Stream\n",
    "from tweepy.streaming import StreamListener\n",
    "import time\n",
    "import json\n",
    "import pandas as pd\n",
    "import matplotlib.pyplot as plt\n",
    "import re\n",
    "import numpy as np\n",
    "import numpy.random as rnd\n",
    "from matplotlib.patches import Ellipse"
   ]
  },
  {
   "cell_type": "code",
   "execution_count": 139,
   "metadata": {},
   "outputs": [],
   "source": [
    "# setup security \n",
    "access_token = ''\n",
    "access_token_secret = ''\n",
    "consumer_key = ''\n",
    "consumer_secret = ''\n",
    "\n",
    "# setup file store\n",
    "file = 'D:/Pos-Graduacao2017/RIWRS/tweets_teste.json'"
   ]
  },
  {
   "cell_type": "code",
   "execution_count": null,
   "metadata": {},
   "outputs": [],
   "source": []
  },
  {
   "cell_type": "code",
   "execution_count": 140,
   "metadata": {},
   "outputs": [],
   "source": [
    "class MyListener(StreamListener):\n",
    "        \n",
    "    \n",
    "    def __init__(self, file):\n",
    "        global the_file\n",
    "        self.the_file = open(file, 'w')\n",
    "        \n",
    "    def on_data(self, data):\n",
    "        self.the_file.write(data)\n",
    "        return True\n",
    "    \n",
    "    def on_error(self, status):\n",
    "        print(status)\n",
    "        \n",
    "    def file_close(self):\n",
    "        self.the_file.close()"
   ]
  },
  {
   "cell_type": "code",
   "execution_count": null,
   "metadata": {},
   "outputs": [],
   "source": [
    "listener = MyListener(file)\n",
    "oauth = OAuthHandler(consumer_key, consumer_secret)\n",
    "oauth.set_access_token(access_token, access_token_secret)\n",
    "\n",
    "max_time = 10 # in seconds\n",
    "start_time = time.time() \n",
    "\n",
    "## collecting...\n",
    "stream = Stream(oauth, listener)\n",
    "#stream.filter(track=['copa', 'neymar', 'messi'],async=True,languages=['pt'])\n",
    "stream.filter(track=['Jair Bolsonaro', 'Marina Silva', 'Rodrigo Maia',\n",
    "                             'Geraldo Alckmin', 'Ciro Gomes', 'jair bolsonaro', 'bolsonaro',\n",
    "                             'marina silva', 'rodrigo maia', 'geraldo alckmin', 'ciro gomes'],async=True,languages=['pt'])\n",
    "\n",
    "elapsed_time = (time.time() - start_time)\n",
    "while  elapsed_time < max_time:\n",
    "    elapsed_time = (time.time() - start_time)\n",
    "\n",
    "    \n",
    "print('**Finish**')\n",
    "stream.disconnect()\n",
    "listener.file_close()"
   ]
  },
  {
   "cell_type": "code",
   "execution_count": 141,
   "metadata": {},
   "outputs": [],
   "source": [
    "tweets_data = []\n",
    "tweets_file = open(file, \"r\")\n",
    "for line in tweets_file:\n",
    "    try:\n",
    "        tweet = json.loads(line)\n",
    "        tweets_data.append(tweet)\n",
    "    except:\n",
    "        continue"
   ]
  },
  {
   "cell_type": "code",
   "execution_count": 142,
   "metadata": {},
   "outputs": [
    {
     "name": "stdout",
     "output_type": "stream",
     "text": [
      "  lang                                               text country\n",
      "0   pt  vergonha daquele outdoor do Bolsonaro no centr...    None\n"
     ]
    }
   ],
   "source": [
    "tweets = pd.DataFrame()\n",
    "\n",
    "tweets['lang'] = ''\n",
    "tweets['text'] = ''\n",
    "tweets['country'] = ''\n",
    "for tweet in tweets_data:\n",
    "    if 'lang' in tweet:\n",
    "        tweets.loc[len(tweets)] = [tweet['lang'],\n",
    "                               tweet['text'],\n",
    "                               tweet['place']['country'] if tweet['place'] != None else None]\n",
    "    \n",
    "print(tweets.head(1))"
   ]
  },
  {
   "cell_type": "code",
   "execution_count": null,
   "metadata": {},
   "outputs": [],
   "source": []
  },
  {
   "cell_type": "code",
   "execution_count": 143,
   "metadata": {},
   "outputs": [
    {
     "data": {
      "text/plain": [
       "<matplotlib.axes._subplots.AxesSubplot at 0xb5dfeb8>"
      ]
     },
     "execution_count": 143,
     "metadata": {},
     "output_type": "execute_result"
    },
    {
     "data": {
      "image/png": "[encoded data removed]",
      "text/plain": [
       "<Figure size 432x288 with 1 Axes>"
      ]
     },
     "metadata": {},
     "output_type": "display_data"
    }
   ],
   "source": [
    "#nao utilizar\n",
    "tweets_by_country = tweets['country'].value_counts()\n",
    "\n",
    "fig, ax = plt.subplots()\n",
    "ax.tick_params(axis='x', labelsize=15)\n",
    "ax.tick_params(axis='y', labelsize=10)\n",
    "ax.set_xlabel('Países dos tweets', fontsize=15)\n",
    "ax.set_ylabel('Contagem' , fontsize=15)\n",
    "ax.set_title('Top 5 países', fontsize=15, fontweight='bold')\n",
    "tweets_by_country[:5].plot(ax=ax, kind='bar', color='blue')"
   ]
  },
  {
   "cell_type": "code",
   "execution_count": 144,
   "metadata": {},
   "outputs": [],
   "source": [
    "def word_in_text(word, text):\n",
    "    word = word.lower()\n",
    "    text = text.lower()\n",
    "    match = re.search(word, text)\n",
    "    if match:\n",
    "        return True\n",
    "    return False"
   ]
  },
  {
   "cell_type": "code",
   "execution_count": 145,
   "metadata": {},
   "outputs": [
    {
     "data": {
      "text/html": [
       "<div>\n",
       "<style scoped>\n",
       "    .dataframe tbody tr th:only-of-type {\n",
       "        vertical-align: middle;\n",
       "    }\n",
       "\n",
       "    .dataframe tbody tr th {\n",
       "        vertical-align: top;\n",
       "    }\n",
       "\n",
       "    .dataframe thead th {\n",
       "        text-align: right;\n",
       "    }\n",
       "</style>\n",
       "<table border=\"1\" class=\"dataframe\">\n",
       "  <thead>\n",
       "    <tr style=\"text-align: right;\">\n",
       "      <th></th>\n",
       "      <th>lang</th>\n",
       "      <th>text</th>\n",
       "      <th>country</th>\n",
       "      <th>candidatos</th>\n",
       "    </tr>\n",
       "  </thead>\n",
       "  <tbody>\n",
       "    <tr>\n",
       "      <th>0</th>\n",
       "      <td>pt</td>\n",
       "      <td>vergonha daquele outdoor do Bolsonaro no centr...</td>\n",
       "      <td>None</td>\n",
       "      <td>Jair Bolsonaro</td>\n",
       "    </tr>\n",
       "    <tr>\n",
       "      <th>1</th>\n",
       "      <td>pt</td>\n",
       "      <td>RT @fabiocoutsilva: PMs gritavam \"Bolsonaro pr...</td>\n",
       "      <td>None</td>\n",
       "      <td>Jair Bolsonaro</td>\n",
       "    </tr>\n",
       "    <tr>\n",
       "      <th>2</th>\n",
       "      <td>pt</td>\n",
       "      <td>RT @GenPauloChagas: Na confusão do caos sobres...</td>\n",
       "      <td>None</td>\n",
       "      <td>Jair Bolsonaro</td>\n",
       "    </tr>\n",
       "    <tr>\n",
       "      <th>3</th>\n",
       "      <td>pt</td>\n",
       "      <td>RT @cinefilo_K: RT para quando alguém disser q...</td>\n",
       "      <td>None</td>\n",
       "      <td>Jair Bolsonaro</td>\n",
       "    </tr>\n",
       "    <tr>\n",
       "      <th>4</th>\n",
       "      <td>pt</td>\n",
       "      <td>RT @OsvladPereira: Onix Lorenzoni anuncia\\nApo...</td>\n",
       "      <td>None</td>\n",
       "      <td>Jair Bolsonaro</td>\n",
       "    </tr>\n",
       "  </tbody>\n",
       "</table>\n",
       "</div>"
      ],
      "text/plain": [
       "  lang                                               text country  \\\n",
       "0   pt  vergonha daquele outdoor do Bolsonaro no centr...    None   \n",
       "1   pt  RT @fabiocoutsilva: PMs gritavam \"Bolsonaro pr...    None   \n",
       "2   pt  RT @GenPauloChagas: Na confusão do caos sobres...    None   \n",
       "3   pt  RT @cinefilo_K: RT para quando alguém disser q...    None   \n",
       "4   pt  RT @OsvladPereira: Onix Lorenzoni anuncia\\nApo...    None   \n",
       "\n",
       "       candidatos  \n",
       "0  Jair Bolsonaro  \n",
       "1  Jair Bolsonaro  \n",
       "2  Jair Bolsonaro  \n",
       "3  Jair Bolsonaro  \n",
       "4  Jair Bolsonaro  "
      ]
     },
     "execution_count": 145,
     "metadata": {},
     "output_type": "execute_result"
    }
   ],
   "source": [
    "candidatos = []\n",
    "for tweet in tweets_data:\n",
    "    if 'text' in tweet:\n",
    "        if word_in_text('Jair Bolsonaro', tweet['text']):\n",
    "            candidatos.append('Jair Bolsonaro')\n",
    "        elif word_in_text('Bolsonaro', tweet['text']):\n",
    "            candidatos.append('Jair Bolsonaro')\n",
    "        elif word_in_text('Marina Silva', tweet['text']):\n",
    "            candidatos.append('Marina Silva')\n",
    "        elif word_in_text('Rodrigo Maia', tweet['text']):\n",
    "            candidatos.append('Rodrigo Maia')\n",
    "        elif word_in_text('Geraldo Alckmin', tweet['text']):\n",
    "            candidatos.append('Geraldo Alckmin')\n",
    "        elif word_in_text('Alckmin', tweet['text']):\n",
    "            candidatos.append('Geraldo Alckmin')            \n",
    "        elif word_in_text('Ciro Gomes', tweet['text']):\n",
    "            candidatos.append('Ciro Gomes')\n",
    "        else:\n",
    "            candidatos.append('(ruído)')\n",
    "            continue\n",
    "tweets['candidatos'] = candidatos\n",
    "tweets.head(5)"
   ]
  },
  {
   "cell_type": "code",
   "execution_count": 146,
   "metadata": {
    "scrolled": true
   },
   "outputs": [
    {
     "data": {
      "text/plain": [
       "<matplotlib.axes._subplots.AxesSubplot at 0xf929710>"
      ]
     },
     "execution_count": 146,
     "metadata": {},
     "output_type": "execute_result"
    },
    {
     "data": {
      "image/png": "[encoded data removed]",
      "text/plain": [
       "<Figure size 432x288 with 1 Axes>"
      ]
     },
     "metadata": {},
     "output_type": "display_data"
    }
   ],
   "source": [
    "candidatos = []\n",
    "for tweet in tweets_data:\n",
    "    if 'text' in tweet:\n",
    "        if word_in_text('Jair Bolsonaro', tweet['text']):\n",
    "            candidatos.append('Jair Bolsonaro')\n",
    "        elif word_in_text('Bolsonaro', tweet['text']):\n",
    "            candidatos.append('Jair Bolsonaro')\n",
    "        elif word_in_text('Marina Silva', tweet['text']):\n",
    "            candidatos.append('Marina Silva')\n",
    "        elif word_in_text('Rodrigo Maia', tweet['text']):\n",
    "            candidatos.append('Rodrigo Maia')\n",
    "        elif word_in_text('Geraldo Alckmin', tweet['text']):\n",
    "            candidatos.append('Geraldo Alckmin')\n",
    "        elif word_in_text('Alckmin', tweet['text']):\n",
    "            candidatos.append('Geraldo Alckmin')            \n",
    "        elif word_in_text('Ciro Gomes', tweet['text']):\n",
    "            candidatos.append('Ciro Gomes')\n",
    "        else:\n",
    "            candidatos.append('(ruído)')\n",
    "tweets['candidatos'] = candidatos\n",
    "#tweets.head(2)\n",
    "tweets_por_candidato = tweets['candidatos'].value_counts()\n",
    "fig, ax = plt.subplots()\n",
    "ax.tick_params(axis='x', labelsize=15)\n",
    "ax.tick_params(axis='y', labelsize=10)\n",
    "ax.set_xlabel('Candidatos', fontsize=15)\n",
    "ax.set_ylabel('Contagem' , fontsize=15)\n",
    "ax.set_title('Candidatos mais citados', fontsize=15, fontweight='bold')\n",
    "tweets_por_candidato[:10].plot(ax=ax, kind='bar', color='brown')\n"
   ]
  },
  {
   "cell_type": "code",
   "execution_count": null,
   "metadata": {},
   "outputs": [],
   "source": []
  },
  {
   "cell_type": "code",
   "execution_count": null,
   "metadata": {},
   "outputs": [],
   "source": []
  },
  {
   "cell_type": "code",
   "execution_count": 152,
   "metadata": {},
   "outputs": [
    {
     "name": "stdout",
     "output_type": "stream",
     "text": [
      "{'?', 'c', '“', '_', 'ø', 'ʀ', '1', '0', 'a', '🇧', 'ó', '|', '4', '👇', ':', '7', '…', '°', 'v', '[', ',', '‘', 'l', '\"', 'h', '😎', '—', '–', 'r', 'º', 'í', 'p', 'ñ', 'e', 't', 'x', '+', '/', 'k', 'é', 'i', '~', '@', '♪', '📌', 'u', 's', '#', \"'\", 'w', '💎', 'β', '%', ']', '”', 'α', 'n', 'o', '🤣', '📍', ';', '&', 'm', 'ú', '😪', 'g', 'ê', '🔰', '-', '(', ')', '•', '👑', 'õ', '!', '2', 'ç', 'd', '\\xa0', 'q', 'ã', '🇷', '👏', '6', 'à', '=', 'á', '3', 'j', '.', '*', 'ô', 'â', '🙂', '’', 'y', 'ε', '̂', '5', '8', 'b', '\\n', 'f', '😂', 'z', '9'}\n"
     ]
    }
   ],
   "source": [
    "dicionario = set()\n",
    "candidatos = []\n",
    "\n",
    "for tweet in tweets_data:    \n",
    "    if word_in_text('Bolsonaro', tweet['text']):\n",
    "        textoPuro = tweet['text']\n",
    "        #print(textoPuro)\n",
    "        textoQuebrado = textoPuro.lower().split(' ')\n",
    "        #print(textoQuebrado)\n",
    "        for lista in textoQuebrado:\n",
    "            dicionario.update(lista)\n",
    "print(dicionario)\n",
    "            \n",
    "total = len(dicionario)\n",
    "tuplas = zip(dicionario, range(total))\n",
    "tradutor = {palavra: indice for palavra, indice in tuplas}\n",
    "\n",
    "def vetorizar_texto(texto, tradutor):\n",
    "    vetor = [0] * len(tradutor)\n",
    "    for palavra in texto:\n",
    "        if palavra in tradutor:\n",
    "            posicao = tradutor[palavra]\n",
    "            vetor[posicao] += 1\n",
    "\n",
    "    return vetor\n",
    "\n",
    "vetoresDeTexto = [vetorizar_texto(texto, tradutor) for texto in textoQuebrado]\n",
    "#print(vetoresDeTexto[1])\n",
    "#print(textoQuebrado[1])\n"
   ]
  },
  {
   "cell_type": "code",
   "execution_count": 148,
   "metadata": {},
   "outputs": [
    {
     "data": {
      "text/plain": [
       "<matplotlib.axes._subplots.AxesSubplot at 0xf96c2e8>"
      ]
     },
     "execution_count": 148,
     "metadata": {},
     "output_type": "execute_result"
    },
    {
     "data": {
      "image/png": "[encoded data removed]",
      "text/plain": [
       "<Figure size 432x288 with 1 Axes>"
      ]
     },
     "metadata": {},
     "output_type": "display_data"
    }
   ],
   "source": [
    "lista = []\n",
    "for tweet in tweets_data:\n",
    "    lista.append(tweet['user']['location'])\n",
    "    \n",
    "    \n",
    "tweets['localidades'] = lista\n",
    "#tweets.head(2)\n",
    "tweets_por_localidades = tweets['localidades'].value_counts()\n",
    "fig, ax = plt.subplots()\n",
    "ax.tick_params(axis='x', labelsize=15)\n",
    "ax.tick_params(axis='y', labelsize=10)\n",
    "ax.set_xlabel('Cidades', fontsize=15)\n",
    "ax.set_ylabel('Contagem' , fontsize=15)\n",
    "ax.set_title('Localidades de interação', fontsize=15, fontweight='bold')\n",
    "tweets_por_localidades[:10].plot(ax=ax, kind='bar', color='green')    "
   ]
  },
  {
   "cell_type": "code",
   "execution_count": null,
   "metadata": {},
   "outputs": [],
   "source": []
  },
  {
   "cell_type": "code",
   "execution_count": null,
   "metadata": {},
   "outputs": [],
   "source": []
  }
 ],
 "metadata": {
  "kernelspec": {
   "display_name": "Python 3",
   "language": "python",
   "name": "python3"
  },
  "language_info": {
   "codemirror_mode": {
    "name": "ipython",
    "version": 3
   },
   "file_extension": ".py",
   "mimetype": "text/x-python",
   "name": "python",
   "nbconvert_exporter": "python",
   "pygments_lexer": "ipython3",
   "version": "3.6.5"
  }
 },
 "nbformat": 4,
 "nbformat_minor": 2
}
